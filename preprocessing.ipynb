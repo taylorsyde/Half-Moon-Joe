{
 "cells": [
  {
   "cell_type": "markdown",
   "id": "e69286da",
   "metadata": {},
   "source": [
    "## Import Dependencies"
   ]
  },
  {
   "cell_type": "code",
   "execution_count": 1,
   "id": "a12cac1a",
   "metadata": {},
   "outputs": [],
   "source": [
    "# Dependencies and Setup\n",
    "import pandas as pd\n",
    "import numpy as np"
   ]
  },
  {
   "cell_type": "code",
   "execution_count": 17,
   "id": "daac65de",
   "metadata": {},
   "outputs": [
    {
     "data": {
      "text/html": [
       "<div>\n",
       "<style scoped>\n",
       "    .dataframe tbody tr th:only-of-type {\n",
       "        vertical-align: middle;\n",
       "    }\n",
       "\n",
       "    .dataframe tbody tr th {\n",
       "        vertical-align: top;\n",
       "    }\n",
       "\n",
       "    .dataframe thead th {\n",
       "        text-align: right;\n",
       "    }\n",
       "</style>\n",
       "<table border=\"1\" class=\"dataframe\">\n",
       "  <thead>\n",
       "    <tr style=\"text-align: right;\">\n",
       "      <th></th>\n",
       "      <th>Episode #</th>\n",
       "      <th>Episode Title</th>\n",
       "      <th>Original Airdate</th>\n",
       "      <th>Joe's Cheese</th>\n",
       "      <th>Sam's Cheese</th>\n",
       "      <th>Notes and Notable Quotes</th>\n",
       "    </tr>\n",
       "  </thead>\n",
       "  <tbody>\n",
       "    <tr>\n",
       "      <th>0</th>\n",
       "      <td>204</td>\n",
       "      <td>Cheesy Breezy Beautiful</td>\n",
       "      <td>August 23, 2018</td>\n",
       "      <td>Fresh mozzarella</td>\n",
       "      <td>NaN</td>\n",
       "      <td>No theme song at this point. Sam begins contri...</td>\n",
       "    </tr>\n",
       "    <tr>\n",
       "      <th>1</th>\n",
       "      <td>205</td>\n",
       "      <td>Raccoon Handy-J</td>\n",
       "      <td>August 30, 2018</td>\n",
       "      <td>Jarlsberg</td>\n",
       "      <td>NaN</td>\n",
       "      <td>Joe sings a theme song but it's not the one we...</td>\n",
       "    </tr>\n",
       "    <tr>\n",
       "      <th>2</th>\n",
       "      <td>206</td>\n",
       "      <td>Hmm, Cheese</td>\n",
       "      <td>September 7, 2018</td>\n",
       "      <td>Gruyere</td>\n",
       "      <td>NaN</td>\n",
       "      <td>Joe invents the theme song we know and love.</td>\n",
       "    </tr>\n",
       "    <tr>\n",
       "      <th>3</th>\n",
       "      <td>207</td>\n",
       "      <td>Brunch is For the Gays</td>\n",
       "      <td>September 13, 2018</td>\n",
       "      <td>Comté</td>\n",
       "      <td>NaN</td>\n",
       "      <td>Joe had not tried it yet, nor did he know how ...</td>\n",
       "    </tr>\n",
       "    <tr>\n",
       "      <th>4</th>\n",
       "      <td>208</td>\n",
       "      <td>Fly Me to the Moon</td>\n",
       "      <td>September 20, 2018</td>\n",
       "      <td>Cheddar</td>\n",
       "      <td>NaN</td>\n",
       "      <td>In a cheddar and olive loaf, made to eat with ...</td>\n",
       "    </tr>\n",
       "  </tbody>\n",
       "</table>\n",
       "</div>"
      ],
      "text/plain": [
       "   Episode #            Episode Title    Original Airdate      Joe's Cheese  \\\n",
       "0        204  Cheesy Breezy Beautiful     August 23, 2018  Fresh mozzarella   \n",
       "1        205          Raccoon Handy-J     August 30, 2018         Jarlsberg   \n",
       "2        206              Hmm, Cheese   September 7, 2018           Gruyere   \n",
       "3        207   Brunch is For the Gays  September 13, 2018             Comté   \n",
       "4        208       Fly Me to the Moon  September 20, 2018           Cheddar   \n",
       "\n",
       "  Sam's Cheese                           Notes and Notable Quotes  \n",
       "0          NaN  No theme song at this point. Sam begins contri...  \n",
       "1          NaN  Joe sings a theme song but it's not the one we...  \n",
       "2          NaN       Joe invents the theme song we know and love.  \n",
       "3          NaN  Joe had not tried it yet, nor did he know how ...  \n",
       "4          NaN  In a cheddar and olive loaf, made to eat with ...  "
      ]
     },
     "execution_count": 17,
     "metadata": {},
     "output_type": "execute_result"
    }
   ],
   "source": [
    "# import data\n",
    "csv_file = \"Resources/raw_data.csv\"\n",
    "raw_df = pd.read_csv(csv_file)\n",
    "\n",
    "raw_df.head()"
   ]
  },
  {
   "cell_type": "code",
   "execution_count": 22,
   "id": "7cf36a07",
   "metadata": {},
   "outputs": [
    {
     "data": {
      "text/html": [
       "<div>\n",
       "<style scoped>\n",
       "    .dataframe tbody tr th:only-of-type {\n",
       "        vertical-align: middle;\n",
       "    }\n",
       "\n",
       "    .dataframe tbody tr th {\n",
       "        vertical-align: top;\n",
       "    }\n",
       "\n",
       "    .dataframe thead th {\n",
       "        text-align: right;\n",
       "    }\n",
       "</style>\n",
       "<table border=\"1\" class=\"dataframe\">\n",
       "  <thead>\n",
       "    <tr style=\"text-align: right;\">\n",
       "      <th></th>\n",
       "      <th>Joe's Cheese</th>\n",
       "      <th>Sam's Cheese</th>\n",
       "      <th>Notes and Notable Quotes</th>\n",
       "    </tr>\n",
       "  </thead>\n",
       "  <tbody>\n",
       "    <tr>\n",
       "      <th>0</th>\n",
       "      <td>Fresh mozzarella</td>\n",
       "      <td>NaN</td>\n",
       "      <td>No theme song at this point. Sam begins contri...</td>\n",
       "    </tr>\n",
       "    <tr>\n",
       "      <th>1</th>\n",
       "      <td>Jarlsberg</td>\n",
       "      <td>NaN</td>\n",
       "      <td>Joe sings a theme song but it's not the one we...</td>\n",
       "    </tr>\n",
       "    <tr>\n",
       "      <th>2</th>\n",
       "      <td>Gruyere</td>\n",
       "      <td>NaN</td>\n",
       "      <td>Joe invents the theme song we know and love.</td>\n",
       "    </tr>\n",
       "    <tr>\n",
       "      <th>3</th>\n",
       "      <td>Comté</td>\n",
       "      <td>NaN</td>\n",
       "      <td>Joe had not tried it yet, nor did he know how ...</td>\n",
       "    </tr>\n",
       "    <tr>\n",
       "      <th>4</th>\n",
       "      <td>Cheddar</td>\n",
       "      <td>NaN</td>\n",
       "      <td>In a cheddar and olive loaf, made to eat with ...</td>\n",
       "    </tr>\n",
       "  </tbody>\n",
       "</table>\n",
       "</div>"
      ],
      "text/plain": [
       "       Joe's Cheese Sam's Cheese  \\\n",
       "0  Fresh mozzarella          NaN   \n",
       "1         Jarlsberg          NaN   \n",
       "2           Gruyere          NaN   \n",
       "3             Comté          NaN   \n",
       "4           Cheddar          NaN   \n",
       "\n",
       "                            Notes and Notable Quotes  \n",
       "0  No theme song at this point. Sam begins contri...  \n",
       "1  Joe sings a theme song but it's not the one we...  \n",
       "2       Joe invents the theme song we know and love.  \n",
       "3  Joe had not tried it yet, nor did he know how ...  \n",
       "4  In a cheddar and olive loaf, made to eat with ...  "
      ]
     },
     "execution_count": 22,
     "metadata": {},
     "output_type": "execute_result"
    }
   ],
   "source": [
    "#reduce the data frame to only Joe and Sam's Cheese's and Notes\n",
    "\n",
    "#raw_df.columns\n",
    "reduced_df = raw_data[[\"Joe's Cheese\",\"Sam's Cheese\", \"Notes and Notable Quotes\"]]\n",
    "\n",
    "reduced_df.head()"
   ]
  },
  {
   "cell_type": "markdown",
   "id": "7a290ac8",
   "metadata": {},
   "source": [
    "## Split the Data By Person and Clean the Data"
   ]
  },
  {
   "cell_type": "code",
   "execution_count": 30,
   "id": "533c186f",
   "metadata": {},
   "outputs": [
    {
     "data": {
      "text/plain": [
       "0    Fresh mozzarella\n",
       "1           Jarlsberg\n",
       "2             Gruyere\n",
       "3               Comté\n",
       "4             Cheddar\n",
       "Name: Joe's Cheese, dtype: object"
      ]
     },
     "execution_count": 30,
     "metadata": {},
     "output_type": "execute_result"
    }
   ],
   "source": [
    "joe_df = reduced_df[\"Joe's Cheese\"]\n",
    "joe_df.head()"
   ]
  },
  {
   "cell_type": "code",
   "execution_count": 31,
   "id": "dce831f2",
   "metadata": {},
   "outputs": [
    {
     "data": {
      "text/plain": [
       "0    NaN\n",
       "1    NaN\n",
       "2    NaN\n",
       "3    NaN\n",
       "4    NaN\n",
       "Name: Sam's Cheese, dtype: object"
      ]
     },
     "execution_count": 31,
     "metadata": {},
     "output_type": "execute_result"
    }
   ],
   "source": [
    "sam_df = reduced_df[\"Sam's Cheese\"]\n",
    "sam_df.head()"
   ]
  },
  {
   "cell_type": "code",
   "execution_count": null,
   "id": "7f0cbd26",
   "metadata": {},
   "outputs": [],
   "source": []
  }
 ],
 "metadata": {
  "kernelspec": {
   "display_name": "PythonData",
   "language": "python",
   "name": "pythondata"
  },
  "language_info": {
   "codemirror_mode": {
    "name": "ipython",
    "version": 3
   },
   "file_extension": ".py",
   "mimetype": "text/x-python",
   "name": "python",
   "nbconvert_exporter": "python",
   "pygments_lexer": "ipython3",
   "version": "3.8.8"
  }
 },
 "nbformat": 4,
 "nbformat_minor": 5
}
