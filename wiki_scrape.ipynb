{
 "cells": [
  {
   "cell_type": "markdown",
   "id": "099a3092",
   "metadata": {},
   "source": [
    "## Import Scrape Dependencies"
   ]
  },
  {
   "cell_type": "code",
   "execution_count": 1,
   "id": "80290c2a",
   "metadata": {},
   "outputs": [],
   "source": [
    "from splinter import Browser\n",
    "from bs4 import BeautifulSoup as bs\n",
    "from webdriver_manager.chrome import ChromeDriverManager\n",
    "import pandas as pd"
   ]
  },
  {
   "cell_type": "markdown",
   "id": "96bbdf23",
   "metadata": {},
   "source": [
    "## Use Beautifulsoup to Scrape Data"
   ]
  },
  {
   "cell_type": "code",
   "execution_count": null,
   "id": "e3a0e03d",
   "metadata": {},
   "outputs": [],
   "source": [
    "# browser = init_browser()\n",
    "executable_path = {'executable_path': ChromeDriverManager().install()}\n",
    "browser = Browser('chrome', **executable_path, headless=False)\n",
    "\n",
    "#hemisphere images scrape source\n",
    "url = \"https://halfmoonjoe.fandom.com/wiki/Cheese_of_the_Week\"\n",
    "browser.visit(url)\n",
    "\n",
    "#extract html and parse with beautifulsoup\n",
    "table_html = browser.html\n",
    "table_soup = bs(table_html, \"html.parser\")\n",
    "\n",
    "table_src = pd.read_html(url)\n",
    "table_df = table_src[0]\n",
    "#table_df = table_df.set_index([0])\n",
    "#table_df = table_df.rename(columns={1 : \"Mars\", 2: \"Earth\"})\n",
    "#table_df = table_df.drop(index='Mars - Earth Comparison')\n",
    "\n",
    "# quit the browser\n",
    "browser.quit()"
   ]
  },
  {
   "cell_type": "markdown",
   "id": "d23ab3e4",
   "metadata": {},
   "source": [
    "#### The data has be succesfully scraped and imported into a Dataframe"
   ]
  },
  {
   "cell_type": "code",
   "execution_count": 12,
   "id": "374d6498",
   "metadata": {},
   "outputs": [
    {
     "data": {
      "text/html": [
       "<div>\n",
       "<style scoped>\n",
       "    .dataframe tbody tr th:only-of-type {\n",
       "        vertical-align: middle;\n",
       "    }\n",
       "\n",
       "    .dataframe tbody tr th {\n",
       "        vertical-align: top;\n",
       "    }\n",
       "\n",
       "    .dataframe thead th {\n",
       "        text-align: right;\n",
       "    }\n",
       "</style>\n",
       "<table border=\"1\" class=\"dataframe\">\n",
       "  <thead>\n",
       "    <tr style=\"text-align: right;\">\n",
       "      <th></th>\n",
       "      <th>Episode #</th>\n",
       "      <th>Episode Title</th>\n",
       "      <th>Original Airdate</th>\n",
       "      <th>Joe's Cheese</th>\n",
       "      <th>Sam's Cheese</th>\n",
       "      <th>Notes and Notable Quotes</th>\n",
       "    </tr>\n",
       "  </thead>\n",
       "  <tbody>\n",
       "    <tr>\n",
       "      <th>0</th>\n",
       "      <td>204</td>\n",
       "      <td>Cheesy Breezy Beautiful</td>\n",
       "      <td>August 23, 2018</td>\n",
       "      <td>Fresh mozzarella</td>\n",
       "      <td>NaN</td>\n",
       "      <td>No theme song at this point. Sam begins contri...</td>\n",
       "    </tr>\n",
       "    <tr>\n",
       "      <th>1</th>\n",
       "      <td>205</td>\n",
       "      <td>Raccoon Handy-J</td>\n",
       "      <td>August 30, 2018</td>\n",
       "      <td>Jarlsberg</td>\n",
       "      <td>NaN</td>\n",
       "      <td>Joe sings a theme song but it's not the one we...</td>\n",
       "    </tr>\n",
       "    <tr>\n",
       "      <th>2</th>\n",
       "      <td>206</td>\n",
       "      <td>Hmm, Cheese</td>\n",
       "      <td>September 7, 2018</td>\n",
       "      <td>Gruyere</td>\n",
       "      <td>NaN</td>\n",
       "      <td>Joe invents the theme song we know and love.</td>\n",
       "    </tr>\n",
       "    <tr>\n",
       "      <th>3</th>\n",
       "      <td>207</td>\n",
       "      <td>Brunch is For the Gays</td>\n",
       "      <td>September 13, 2018</td>\n",
       "      <td>Comté</td>\n",
       "      <td>NaN</td>\n",
       "      <td>Joe had not tried it yet, nor did he know how ...</td>\n",
       "    </tr>\n",
       "    <tr>\n",
       "      <th>4</th>\n",
       "      <td>208</td>\n",
       "      <td>Fly Me to the Moon</td>\n",
       "      <td>September 20, 2018</td>\n",
       "      <td>Cheddar</td>\n",
       "      <td>NaN</td>\n",
       "      <td>In a cheddar and olive loaf, made to eat with ...</td>\n",
       "    </tr>\n",
       "  </tbody>\n",
       "</table>\n",
       "</div>"
      ],
      "text/plain": [
       "   Episode #            Episode Title    Original Airdate      Joe's Cheese  \\\n",
       "0        204  Cheesy Breezy Beautiful     August 23, 2018  Fresh mozzarella   \n",
       "1        205          Raccoon Handy-J     August 30, 2018         Jarlsberg   \n",
       "2        206              Hmm, Cheese   September 7, 2018           Gruyere   \n",
       "3        207   Brunch is For the Gays  September 13, 2018             Comté   \n",
       "4        208       Fly Me to the Moon  September 20, 2018           Cheddar   \n",
       "\n",
       "  Sam's Cheese                           Notes and Notable Quotes  \n",
       "0          NaN  No theme song at this point. Sam begins contri...  \n",
       "1          NaN  Joe sings a theme song but it's not the one we...  \n",
       "2          NaN       Joe invents the theme song we know and love.  \n",
       "3          NaN  Joe had not tried it yet, nor did he know how ...  \n",
       "4          NaN  In a cheddar and olive loaf, made to eat with ...  "
      ]
     },
     "execution_count": 12,
     "metadata": {},
     "output_type": "execute_result"
    }
   ],
   "source": [
    "table_df.head()"
   ]
  },
  {
   "cell_type": "code",
   "execution_count": 16,
   "id": "c5a496d9",
   "metadata": {},
   "outputs": [],
   "source": [
    "table_df.to_csv('./Resources/raw_data.csv', index=False)"
   ]
  },
  {
   "cell_type": "code",
   "execution_count": null,
   "id": "51cd2951",
   "metadata": {},
   "outputs": [],
   "source": []
  }
 ],
 "metadata": {
  "kernelspec": {
   "display_name": "PythonData",
   "language": "python",
   "name": "pythondata"
  },
  "language_info": {
   "codemirror_mode": {
    "name": "ipython",
    "version": 3
   },
   "file_extension": ".py",
   "mimetype": "text/x-python",
   "name": "python",
   "nbconvert_exporter": "python",
   "pygments_lexer": "ipython3",
   "version": "3.8.8"
  }
 },
 "nbformat": 4,
 "nbformat_minor": 5
}
